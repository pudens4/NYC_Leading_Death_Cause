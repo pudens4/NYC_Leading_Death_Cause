{
 "cells": [
  {
   "cell_type": "code",
   "execution_count": 1,
   "id": "c9f9f671",
   "metadata": {},
   "outputs": [],
   "source": [
    "import os\n",
    "import pandas as pd"
   ]
  },
  {
   "cell_type": "code",
   "execution_count": 2,
   "id": "773b9900",
   "metadata": {},
   "outputs": [],
   "source": [
    "# import data\n",
    "raw_data = os.path.join('New_York_City_Leading_Causes_of_Death.csv')"
   ]
  },
  {
   "cell_type": "code",
   "execution_count": 3,
   "id": "20c53803",
   "metadata": {},
   "outputs": [
    {
     "data": {
      "text/html": [
       "<div>\n",
       "<style scoped>\n",
       "    .dataframe tbody tr th:only-of-type {\n",
       "        vertical-align: middle;\n",
       "    }\n",
       "\n",
       "    .dataframe tbody tr th {\n",
       "        vertical-align: top;\n",
       "    }\n",
       "\n",
       "    .dataframe thead th {\n",
       "        text-align: right;\n",
       "    }\n",
       "</style>\n",
       "<table border=\"1\" class=\"dataframe\">\n",
       "  <thead>\n",
       "    <tr style=\"text-align: right;\">\n",
       "      <th></th>\n",
       "      <th>Year</th>\n",
       "      <th>Leading_Cause</th>\n",
       "      <th>Sex</th>\n",
       "      <th>Race_Ethnicity</th>\n",
       "      <th>Deaths</th>\n",
       "      <th>Death_Rate</th>\n",
       "      <th>Age_Adjusted_Death Rate</th>\n",
       "    </tr>\n",
       "  </thead>\n",
       "  <tbody>\n",
       "    <tr>\n",
       "      <th>0</th>\n",
       "      <td>2009</td>\n",
       "      <td>Nephritis, Nephrotic Syndrome and Nephrisis (N...</td>\n",
       "      <td>F</td>\n",
       "      <td>Other Race/ Ethnicity</td>\n",
       "      <td>.</td>\n",
       "      <td>.</td>\n",
       "      <td>.</td>\n",
       "    </tr>\n",
       "    <tr>\n",
       "      <th>1</th>\n",
       "      <td>2013</td>\n",
       "      <td>Influenza (Flu) and Pneumonia (J09-J18)</td>\n",
       "      <td>F</td>\n",
       "      <td>Hispanic</td>\n",
       "      <td>204</td>\n",
       "      <td>16.3</td>\n",
       "      <td>18.5</td>\n",
       "    </tr>\n",
       "    <tr>\n",
       "      <th>2</th>\n",
       "      <td>2012</td>\n",
       "      <td>Assault (Homicide: Y87.1, X85-Y09)</td>\n",
       "      <td>M</td>\n",
       "      <td>Other Race/ Ethnicity</td>\n",
       "      <td>.</td>\n",
       "      <td>.</td>\n",
       "      <td>.</td>\n",
       "    </tr>\n",
       "    <tr>\n",
       "      <th>3</th>\n",
       "      <td>2007</td>\n",
       "      <td>Essential Hypertension and Renal Diseases (I10...</td>\n",
       "      <td>F</td>\n",
       "      <td>Not Stated/Unknown</td>\n",
       "      <td>5</td>\n",
       "      <td>.</td>\n",
       "      <td>.</td>\n",
       "    </tr>\n",
       "    <tr>\n",
       "      <th>4</th>\n",
       "      <td>2014</td>\n",
       "      <td>Cerebrovascular Disease (Stroke: I60-I69)</td>\n",
       "      <td>F</td>\n",
       "      <td>White Non-Hispanic</td>\n",
       "      <td>418</td>\n",
       "      <td>29.5</td>\n",
       "      <td>15.6</td>\n",
       "    </tr>\n",
       "  </tbody>\n",
       "</table>\n",
       "</div>"
      ],
      "text/plain": [
       "   Year                                      Leading_Cause Sex  \\\n",
       "0  2009  Nephritis, Nephrotic Syndrome and Nephrisis (N...   F   \n",
       "1  2013            Influenza (Flu) and Pneumonia (J09-J18)   F   \n",
       "2  2012                 Assault (Homicide: Y87.1, X85-Y09)   M   \n",
       "3  2007  Essential Hypertension and Renal Diseases (I10...   F   \n",
       "4  2014          Cerebrovascular Disease (Stroke: I60-I69)   F   \n",
       "\n",
       "          Race_Ethnicity Deaths Death_Rate Age_Adjusted_Death Rate  \n",
       "0  Other Race/ Ethnicity      .          .                       .  \n",
       "1               Hispanic    204       16.3                    18.5  \n",
       "2  Other Race/ Ethnicity      .          .                       .  \n",
       "3     Not Stated/Unknown      5          .                       .  \n",
       "4     White Non-Hispanic    418       29.5                    15.6  "
      ]
     },
     "execution_count": 3,
     "metadata": {},
     "output_type": "execute_result"
    }
   ],
   "source": [
    "# read the data \n",
    "read_raw_data = pd.read_csv(raw_data)\n",
    "read_raw_data.head()"
   ]
  },
  {
   "cell_type": "code",
   "execution_count": 4,
   "id": "b6aa286b",
   "metadata": {},
   "outputs": [],
   "source": [
    "# clean the data"
   ]
  },
  {
   "cell_type": "code",
   "execution_count": 5,
   "id": "bf513658",
   "metadata": {},
   "outputs": [],
   "source": [
    "# Find unique values in the columns\n",
    "# for col in read_raw_data:\n",
    "#     print(read_raw_data[col].unique())"
   ]
  },
  {
   "cell_type": "code",
   "execution_count": 6,
   "id": "6b8fb99a",
   "metadata": {},
   "outputs": [
    {
     "data": {
      "text/plain": [
       "array([2009, 2013, 2012, 2007, 2014, 2008, 2011, 2010, 2019])"
      ]
     },
     "execution_count": 6,
     "metadata": {},
     "output_type": "execute_result"
    }
   ],
   "source": [
    "# Find distinct values in the columns\n",
    "read_raw_data.Year.unique()\n"
   ]
  },
  {
   "cell_type": "code",
   "execution_count": 7,
   "id": "d8ccd035",
   "metadata": {},
   "outputs": [
    {
     "data": {
      "text/plain": [
       "array(['Accidents Except Drug Poisoning (V01-X39, X43, X45-X59, Y85-Y86)',\n",
       "       'Accidents Except Drug Posioning (V01-X39, X43, X45-X59, Y85-Y86)',\n",
       "       'All Other Causes', \"Alzheimer's Disease (G30)\",\n",
       "       'Anemias (D50-D64)', 'Aortic Aneurysm and Dissection (I71)',\n",
       "       'Assault (Homicide: U01-U02, Y87.1, X85-Y09)',\n",
       "       'Assault (Homicide: Y87.1, X85-Y09)', 'Atherosclerosis (I70)',\n",
       "       'Cerebrovascular Disease (Stroke: I60-I69)',\n",
       "       'Certain Conditions originating in the Perinatal Period (P00-P96)',\n",
       "       'Cholelithiasis and Disorders of Gallbladder (K80-K82)',\n",
       "       'Chronic Liver Disease and Cirrhosis (K70, K73)',\n",
       "       'Chronic Liver Disease and Cirrhosis (K70, K73-K74)',\n",
       "       'Chronic Lower Respiratory Diseases (J40-J47)',\n",
       "       'Complications of Medical and Surgical Care (Y40-Y84, Y88)',\n",
       "       'Congenital Malformations, Deformations, and Chromosomal Abnormalities (Q00-Q99)',\n",
       "       'Diabetes Mellitus (E10-E14)',\n",
       "       'Diseases of Heart (I00-I09, I11, I13, I20-I51)',\n",
       "       'Essential Hypertension and Renal Diseases (I10, I12)',\n",
       "       'Human Immunodeficiency Virus Disease (HIV: B20-B24)',\n",
       "       'Influenza (Flu) and Pneumonia (J09-J18)',\n",
       "       'Insitu or Benign / Uncertain Neoplasms (D00-D48)',\n",
       "       'Intentional Self-Harm (Suicide: U03, X60-X84, Y87.0)',\n",
       "       'Intentional Self-Harm (Suicide: X60-X84, Y87.0)',\n",
       "       'Malignant Neoplasms (Cancer: C00-C97)',\n",
       "       'Mental and Behavioral Disorders due to Accidental Poisoning and Other Psychoactive Substance Use (F11-F16, F18-F19, X40-X42, X44)',\n",
       "       'Mental and Behavioral Disorders due to Use of Alcohol (F10)',\n",
       "       'Nephritis, Nephrotic Syndrome and Nephrisis (N00-N07, N17-N19, N25-N27)',\n",
       "       \"Parkinson's Disease (G20)\", 'Peptic Ulcer (K25-K28)',\n",
       "       'Septicemia (A40-A41)', 'Tuberculosis (A16-A19)',\n",
       "       'Viral Hepatitis (B15-B19)'], dtype=object)"
      ]
     },
     "execution_count": 7,
     "metadata": {},
     "output_type": "execute_result"
    }
   ],
   "source": [
    "distinct_causes = read_raw_data.Leading_Cause.unique()\n",
    "distinct_causes.sort()\n",
    "distinct_causes"
   ]
  },
  {
   "cell_type": "code",
   "execution_count": 8,
   "id": "86dd1797",
   "metadata": {},
   "outputs": [
    {
     "data": {
      "text/plain": [
       "array(['F', 'M', 'Male', 'Female'], dtype=object)"
      ]
     },
     "execution_count": 8,
     "metadata": {},
     "output_type": "execute_result"
    }
   ],
   "source": [
    "read_raw_data.Sex.unique()\n"
   ]
  },
  {
   "cell_type": "code",
   "execution_count": 9,
   "id": "48ce354a",
   "metadata": {},
   "outputs": [
    {
     "data": {
      "text/plain": [
       "array(['Other Race/ Ethnicity', 'Hispanic', 'Not Stated/Unknown',\n",
       "       'White Non-Hispanic', 'Asian and Pacific Islander',\n",
       "       'Black Non-Hispanic', 'Non-Hispanic White', 'Non-Hispanic Black'],\n",
       "      dtype=object)"
      ]
     },
     "execution_count": 9,
     "metadata": {},
     "output_type": "execute_result"
    }
   ],
   "source": [
    "read_raw_data.Race_Ethnicity.unique()"
   ]
  },
  {
   "cell_type": "code",
   "execution_count": 10,
   "id": "4040242a",
   "metadata": {},
   "outputs": [],
   "source": [
    "#replace F M by Female and Male\n",
    "read_raw_data['Sex'] = read_raw_data['Sex'].replace(['F', 'M'],['Female', 'Male'])"
   ]
  },
  {
   "cell_type": "code",
   "execution_count": 11,
   "id": "d94d4845",
   "metadata": {},
   "outputs": [],
   "source": [
    "# replace ethnicity\n",
    "read_raw_data['Race_Ethnicity'] = read_raw_data['Race_Ethnicity'].replace(['Other Race/ Ethnicity', 'Not Stated/Unknown','Non-Hispanic White', 'Non-Hispanic Black'],['Unknown', 'Unknown','White Non-Hispanic','Black Non-Hispanic'])"
   ]
  },
  {
   "cell_type": "code",
   "execution_count": 12,
   "id": "a0043727",
   "metadata": {},
   "outputs": [],
   "source": [
    "# replace leading cause\n",
    "read_raw_data['Leading_Cause']= read_raw_data['Leading_Cause'].replace(['Accidents Except Drug Poisoning (V01-X39, X43, X45-X59, Y85-Y86)','Assault (Homicide: Y87.1, X85-Y09)','Chronic Liver Disease and Cirrhosis (K70, K73)','Intentional Self-Harm (Suicide: X60-X84, Y87.0)'],['Accidents Except Drug Posioning (V01-X39, X43, X45-X59, Y85-Y86)','Assault (Homicide: U01-U02, Y87.1, X85-Y09)','Chronic Liver Disease and Cirrhosis (K70, K73-K74)','Intentional Self-Harm (Suicide: U03, X60-X84, Y87.0)'])"
   ]
  },
  {
   "cell_type": "code",
   "execution_count": 13,
   "id": "c909e13a",
   "metadata": {},
   "outputs": [
    {
     "data": {
      "text/html": [
       "<div>\n",
       "<style scoped>\n",
       "    .dataframe tbody tr th:only-of-type {\n",
       "        vertical-align: middle;\n",
       "    }\n",
       "\n",
       "    .dataframe tbody tr th {\n",
       "        vertical-align: top;\n",
       "    }\n",
       "\n",
       "    .dataframe thead th {\n",
       "        text-align: right;\n",
       "    }\n",
       "</style>\n",
       "<table border=\"1\" class=\"dataframe\">\n",
       "  <thead>\n",
       "    <tr style=\"text-align: right;\">\n",
       "      <th></th>\n",
       "      <th>Year</th>\n",
       "      <th>Leading_Cause</th>\n",
       "      <th>Sex</th>\n",
       "      <th>Race_Ethnicity</th>\n",
       "      <th>Deaths</th>\n",
       "      <th>Death_Rate</th>\n",
       "      <th>Age_Adjusted_Death Rate</th>\n",
       "    </tr>\n",
       "  </thead>\n",
       "  <tbody>\n",
       "    <tr>\n",
       "      <th>0</th>\n",
       "      <td>2009</td>\n",
       "      <td>Nephritis, Nephrotic Syndrome and Nephrisis (N...</td>\n",
       "      <td>Female</td>\n",
       "      <td>Unknown</td>\n",
       "      <td>.</td>\n",
       "      <td>.</td>\n",
       "      <td>.</td>\n",
       "    </tr>\n",
       "    <tr>\n",
       "      <th>1</th>\n",
       "      <td>2013</td>\n",
       "      <td>Influenza (Flu) and Pneumonia (J09-J18)</td>\n",
       "      <td>Female</td>\n",
       "      <td>Hispanic</td>\n",
       "      <td>204</td>\n",
       "      <td>16.3</td>\n",
       "      <td>18.5</td>\n",
       "    </tr>\n",
       "    <tr>\n",
       "      <th>2</th>\n",
       "      <td>2012</td>\n",
       "      <td>Assault (Homicide: U01-U02, Y87.1, X85-Y09)</td>\n",
       "      <td>Male</td>\n",
       "      <td>Unknown</td>\n",
       "      <td>.</td>\n",
       "      <td>.</td>\n",
       "      <td>.</td>\n",
       "    </tr>\n",
       "    <tr>\n",
       "      <th>3</th>\n",
       "      <td>2007</td>\n",
       "      <td>Essential Hypertension and Renal Diseases (I10...</td>\n",
       "      <td>Female</td>\n",
       "      <td>Unknown</td>\n",
       "      <td>5</td>\n",
       "      <td>.</td>\n",
       "      <td>.</td>\n",
       "    </tr>\n",
       "    <tr>\n",
       "      <th>4</th>\n",
       "      <td>2014</td>\n",
       "      <td>Cerebrovascular Disease (Stroke: I60-I69)</td>\n",
       "      <td>Female</td>\n",
       "      <td>White Non-Hispanic</td>\n",
       "      <td>418</td>\n",
       "      <td>29.5</td>\n",
       "      <td>15.6</td>\n",
       "    </tr>\n",
       "    <tr>\n",
       "      <th>...</th>\n",
       "      <td>...</td>\n",
       "      <td>...</td>\n",
       "      <td>...</td>\n",
       "      <td>...</td>\n",
       "      <td>...</td>\n",
       "      <td>...</td>\n",
       "      <td>...</td>\n",
       "    </tr>\n",
       "    <tr>\n",
       "      <th>1267</th>\n",
       "      <td>2019</td>\n",
       "      <td>Influenza (Flu) and Pneumonia (J09-J18)</td>\n",
       "      <td>Female</td>\n",
       "      <td>Unknown</td>\n",
       "      <td>8</td>\n",
       "      <td>8.844176662</td>\n",
       "      <td>12.14778648</td>\n",
       "    </tr>\n",
       "    <tr>\n",
       "      <th>1268</th>\n",
       "      <td>2019</td>\n",
       "      <td>Certain Conditions originating in the Perinata...</td>\n",
       "      <td>Female</td>\n",
       "      <td>Unknown</td>\n",
       "      <td>7</td>\n",
       "      <td>7.73865458</td>\n",
       "      <td>6.390793995</td>\n",
       "    </tr>\n",
       "    <tr>\n",
       "      <th>1269</th>\n",
       "      <td>2019</td>\n",
       "      <td>Mental and Behavioral Disorders due to Acciden...</td>\n",
       "      <td>Female</td>\n",
       "      <td>Unknown</td>\n",
       "      <td>5</td>\n",
       "      <td>5.527610414</td>\n",
       "      <td>6.724040882</td>\n",
       "    </tr>\n",
       "    <tr>\n",
       "      <th>1270</th>\n",
       "      <td>2019</td>\n",
       "      <td>Intentional Self-Harm (Suicide: U03, X60-X84, ...</td>\n",
       "      <td>Female</td>\n",
       "      <td>Unknown</td>\n",
       "      <td>5</td>\n",
       "      <td>5.527610414</td>\n",
       "      <td>6.979219825</td>\n",
       "    </tr>\n",
       "    <tr>\n",
       "      <th>1271</th>\n",
       "      <td>2019</td>\n",
       "      <td>All Other Causes</td>\n",
       "      <td>Female</td>\n",
       "      <td>Unknown</td>\n",
       "      <td>64</td>\n",
       "      <td>70.7534133</td>\n",
       "      <td>88.7919256</td>\n",
       "    </tr>\n",
       "  </tbody>\n",
       "</table>\n",
       "<p>1272 rows × 7 columns</p>\n",
       "</div>"
      ],
      "text/plain": [
       "      Year                                      Leading_Cause     Sex  \\\n",
       "0     2009  Nephritis, Nephrotic Syndrome and Nephrisis (N...  Female   \n",
       "1     2013            Influenza (Flu) and Pneumonia (J09-J18)  Female   \n",
       "2     2012        Assault (Homicide: U01-U02, Y87.1, X85-Y09)    Male   \n",
       "3     2007  Essential Hypertension and Renal Diseases (I10...  Female   \n",
       "4     2014          Cerebrovascular Disease (Stroke: I60-I69)  Female   \n",
       "...    ...                                                ...     ...   \n",
       "1267  2019            Influenza (Flu) and Pneumonia (J09-J18)  Female   \n",
       "1268  2019  Certain Conditions originating in the Perinata...  Female   \n",
       "1269  2019  Mental and Behavioral Disorders due to Acciden...  Female   \n",
       "1270  2019  Intentional Self-Harm (Suicide: U03, X60-X84, ...  Female   \n",
       "1271  2019                                   All Other Causes  Female   \n",
       "\n",
       "          Race_Ethnicity Deaths   Death_Rate Age_Adjusted_Death Rate  \n",
       "0                Unknown      .            .                       .  \n",
       "1               Hispanic    204         16.3                    18.5  \n",
       "2                Unknown      .            .                       .  \n",
       "3                Unknown      5            .                       .  \n",
       "4     White Non-Hispanic    418         29.5                    15.6  \n",
       "...                  ...    ...          ...                     ...  \n",
       "1267             Unknown      8  8.844176662             12.14778648  \n",
       "1268             Unknown      7   7.73865458             6.390793995  \n",
       "1269             Unknown      5  5.527610414             6.724040882  \n",
       "1270             Unknown      5  5.527610414             6.979219825  \n",
       "1271             Unknown     64   70.7534133              88.7919256  \n",
       "\n",
       "[1272 rows x 7 columns]"
      ]
     },
     "execution_count": 13,
     "metadata": {},
     "output_type": "execute_result"
    }
   ],
   "source": [
    "read_raw_data"
   ]
  },
  {
   "cell_type": "code",
   "execution_count": 14,
   "id": "aacb2a22",
   "metadata": {},
   "outputs": [],
   "source": [
    "read_raw_data['Deaths'] = read_raw_data['Deaths'].replace(['.'],['0'])"
   ]
  },
  {
   "cell_type": "code",
   "execution_count": 15,
   "id": "86f3e301",
   "metadata": {},
   "outputs": [],
   "source": [
    "read_raw_data['Death_Rate'] = read_raw_data['Death_Rate'].replace(['.'],['0'])\n"
   ]
  },
  {
   "cell_type": "code",
   "execution_count": 16,
   "id": "a7dba1fe",
   "metadata": {},
   "outputs": [],
   "source": [
    "read_raw_data['Age_Adjusted_Death Rate'] = read_raw_data['Age_Adjusted_Death Rate'].replace(['.'],['0'])"
   ]
  },
  {
   "cell_type": "code",
   "execution_count": 17,
   "id": "2cfad1cf",
   "metadata": {},
   "outputs": [],
   "source": [
    "#clean data sorted by year\n",
    "clean_data = read_raw_data.sort_values(by='Year')"
   ]
  },
  {
   "cell_type": "code",
   "execution_count": 18,
   "id": "79cf0726",
   "metadata": {},
   "outputs": [],
   "source": [
    "# replace . and NaN with 0\n",
    "clean_data = read_raw_data.fillna(0)"
   ]
  },
  {
   "cell_type": "code",
   "execution_count": 19,
   "id": "36b829da",
   "metadata": {},
   "outputs": [],
   "source": [
    "cleaner_data=clean_data.sort_values(by='Year')"
   ]
  },
  {
   "cell_type": "code",
   "execution_count": 20,
   "id": "9a226376",
   "metadata": {},
   "outputs": [],
   "source": [
    "#clean data to csv\n",
    "cleaner_data.to_csv('clean_NYC_Leading_cause_death.csv')"
   ]
  }
 ],
 "metadata": {
  "kernelspec": {
   "display_name": "Python 3 (ipykernel)",
   "language": "python",
   "name": "python3"
  },
  "language_info": {
   "codemirror_mode": {
    "name": "ipython",
    "version": 3
   },
   "file_extension": ".py",
   "mimetype": "text/x-python",
   "name": "python",
   "nbconvert_exporter": "python",
   "pygments_lexer": "ipython3",
   "version": "3.9.7"
  }
 },
 "nbformat": 4,
 "nbformat_minor": 5
}
